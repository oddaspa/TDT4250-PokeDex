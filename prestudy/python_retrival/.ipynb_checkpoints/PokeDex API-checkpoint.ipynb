{
 "cells": [
  {
   "cell_type": "markdown",
   "metadata": {},
   "source": [
    "# Importing Pokemon data from PokeAPI.co"
   ]
  },
  {
   "cell_type": "code",
   "execution_count": 56,
   "metadata": {},
   "outputs": [],
   "source": [
    "import json\n",
    "import requests\n",
    "import numpy as np\n",
    "import matplotlib.pyplot as plt"
   ]
  },
  {
   "cell_type": "code",
   "execution_count": 2,
   "metadata": {},
   "outputs": [],
   "source": [
    "api_url_base = \"https://pokeapi.co/api/v2/pokemon-species/\""
   ]
  },
  {
   "cell_type": "markdown",
   "metadata": {},
   "source": [
    "There are 807 pokemons."
   ]
  },
  {
   "cell_type": "code",
   "execution_count": 45,
   "metadata": {},
   "outputs": [
    {
     "name": "stdout",
     "output_type": "stream",
     "text": [
      "Could not retrieve pokemon nr: 0\n"
     ]
    }
   ],
   "source": [
    "json_data_list = []\n",
    "for i in range(807):\n",
    "    response = requests.get(api_url_base + str(i))\n",
    "    if response.status_code == 200:\n",
    "        json_data = json.loads(response.content.decode('utf-8'))\n",
    "    else:\n",
    "        print(f\"Could not retrieve pokemon nr: {i}\")\n",
    "    json_data_list.append(json_data)\n",
    "\n",
    "all_pokemons = json.dumps(json_data_list)"
   ]
  },
  {
   "cell_type": "code",
   "execution_count": 51,
   "metadata": {},
   "outputs": [
    {
     "data": {
      "text/plain": [
       "807"
      ]
     },
     "execution_count": 51,
     "metadata": {},
     "output_type": "execute_result"
    }
   ],
   "source": [
    "len(json_data_list)"
   ]
  },
  {
   "cell_type": "code",
   "execution_count": 43,
   "metadata": {},
   "outputs": [],
   "source": [
    "with open('pokemons.json', 'w', encoding='utf-8') as f:\n",
    "    json.dump(all_pokemons, f, ensure_ascii=False, indent=4)"
   ]
  },
  {
   "cell_type": "markdown",
   "metadata": {},
   "source": [
    "# Looking at our data"
   ]
  },
  {
   "cell_type": "code",
   "execution_count": 70,
   "metadata": {},
   "outputs": [],
   "source": [
    "genuses = []\n",
    "for pokemon in json_data_list:\n",
    "    genuses.append(pokemon[\"genera\"][2][\"genus\"])"
   ]
  },
  {
   "cell_type": "code",
   "execution_count": 71,
   "metadata": {},
   "outputs": [],
   "source": [
    "unique_gen, counts_gen = np.unique(genuses, return_counts=True)"
   ]
  },
  {
   "cell_type": "code",
   "execution_count": 73,
   "metadata": {},
   "outputs": [
    {
     "data": {
      "image/png": "[encoded data removed]",
      "text/plain": [
       "<Figure size 432x288 with 1 Axes>"
      ]
     },
     "metadata": {
      "needs_background": "light"
     },
     "output_type": "display_data"
    }
   ],
   "source": [
    "x = np.arange(len(unique_gen))\n",
    "fig, ax = plt.subplots()\n",
    "plt.bar(x, counts_gen)\n",
    "plt.xticks(x, unique_gen)\n",
    "plt.show()"
   ]
  },
  {
   "cell_type": "markdown",
   "metadata": {},
   "source": [
    "Seems like there are a lot of genuses. The relationships between the genuses I do not know."
   ]
  },
  {
   "cell_type": "code",
   "execution_count": 82,
   "metadata": {},
   "outputs": [
    {
     "data": {
      "text/plain": [
       "588"
      ]
     },
     "execution_count": 82,
     "metadata": {},
     "output_type": "execute_result"
    }
   ],
   "source": [
    "len(unique_gen)"
   ]
  },
  {
   "cell_type": "code",
   "execution_count": 74,
   "metadata": {},
   "outputs": [],
   "source": [
    "egg_groups = []\n",
    "for pokemon in json_data_list:\n",
    "    egg_groups.append(pokemon[\"egg_groups\"][0][\"name\"])"
   ]
  },
  {
   "cell_type": "code",
   "execution_count": 76,
   "metadata": {},
   "outputs": [
    {
     "data": {
      "image/png": "[encoded data removed]",
      "text/plain": [
       "<Figure size 432x288 with 1 Axes>"
      ]
     },
     "metadata": {
      "needs_background": "light"
     },
     "output_type": "display_data"
    }
   ],
   "source": [
    "x = np.arange(len(unique_egg))\n",
    "fig, ax = plt.subplots()\n",
    "plt.bar(x, counts_egg)\n",
    "plt.xticks(x, unique_egg)\n",
    "plt.show()"
   ]
  },
  {
   "cell_type": "code",
   "execution_count": 79,
   "metadata": {},
   "outputs": [
    {
     "name": "stdout",
     "output_type": "stream",
     "text": [
      "{'bug': 65, 'ditto': 1, 'dragon': 52, 'fairy': 34, 'flying': 48, 'ground': 184, 'humanshape': 52, 'indeterminate': 52, 'mineral': 54, 'monster': 20, 'no-eggs': 97, 'plant': 62, 'water1': 30, 'water2': 23, 'water3': 33}\n"
     ]
    }
   ],
   "source": [
    "unique_egg, counts_egg = np.unique(egg_groups, return_counts=True)\n",
    "print(dict(zip(unique_egg, counts_egg)))"
   ]
  },
  {
   "cell_type": "markdown",
   "metadata": {},
   "source": [
    "# Results\n",
    "<img src=\"img/Linnaeus.png\" width=\"200\">\n",
    "If we choose Linnaeus' system of classification we place a pokemon in an hiarchy og biological classification as follows:\n",
    "Kingdom - Animalia, Plantae, Fungi, Protista etc <br>\n",
    "Phylum - Group of organisms with common traits <br>\n",
    "Class - Level of complexity to the layout of the organ system. (fish, birds, mammals etc) <br>\n",
    "Order - Grouping families with common ansestors based on their kinship. (primates etc) <br>\n",
    "Family - Used for evolutionary studies to group genuses. <br>\n",
    "Genus  - A group with direct offspring to eachother. (<i>to give birth to</i>) (Alaskian husky and Siberian Husky has same genus) <br>\n",
    "Species - The basic unit of classification. One distinct type of living creature. <br>\n",
    "<br>\n",
    "Example: \n",
    "Man aka Homo Sapiens has the following classification:\n",
    "\n",
    "| Classification | example|\n",
    "| --------- | ---------- |\n",
    "|Kingdom\t|Animalia    |\n",
    "|Phylum\t    |Chordata    |\n",
    "|Class\t    |Mammalia    |\n",
    "|Order\t    |Primates    |\n",
    "|Family\t    |Hominidae   |\n",
    "|Genus\t    |Homo        |\n",
    "|Species\t|Homo sapiens|\n",
    "\n",
    "Illustrated example:\n",
    "<img src=\"img/dog_classification.png\" width=\"80%\">\n",
    "\n",
    "After looking at available data we will have to be creative as we only have egg groups and genus. \n",
    "\n",
    "Our proposed solution is:\n",
    "\n",
    "| Classification |              Pokemon                           |\n",
    "| -------------- | ----------------------------------------       |\n",
    "|Kingdom\t     |Separate Egg Groups on Plants, Animals, Mineral |\n",
    "|Phylum\t         |Separate Bugs from Animals                      |\n",
    "|Class\t         |Separate Animals on Flying, Water, Dragon, Fairy|\n",
    "|Order\t         |-------------                                   |\n",
    "|Family\t         |-------------                                   |\n",
    "|Genus\t         |Pokemon Genus                                   |\n",
    "|Species\t     |Pokemon name                                    |\n",
    "\n"
   ]
  }
 ],
 "metadata": {
  "kernelspec": {
   "display_name": "Python 3",
   "language": "python",
   "name": "python3"
  },
  "language_info": {
   "codemirror_mode": {
    "name": "ipython",
    "version": 3
   },
   "file_extension": ".py",
   "mimetype": "text/x-python",
   "name": "python",
   "nbconvert_exporter": "python",
   "pygments_lexer": "ipython3",
   "version": "3.7.2"
  }
 },
 "nbformat": 4,
 "nbformat_minor": 2
}
